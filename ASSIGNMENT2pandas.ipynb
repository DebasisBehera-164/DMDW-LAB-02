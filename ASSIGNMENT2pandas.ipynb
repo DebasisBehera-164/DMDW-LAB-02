{
  "nbformat": 4,
  "nbformat_minor": 0,
  "metadata": {
    "colab": {
      "name": "Untitled4.ipynb",
      "provenance": [],
      "collapsed_sections": [],
      "authorship_tag": "ABX9TyP11lDfyMexG5rm0NTrLG78",
      "include_colab_link": true
    },
    "kernelspec": {
      "name": "python3",
      "display_name": "Python 3"
    }
  },
  "cells": [
    {
      "cell_type": "markdown",
      "metadata": {
        "id": "view-in-github",
        "colab_type": "text"
      },
      "source": [
        "<a href=\"https://colab.research.google.com/github/DebasisBehera-164/DMDW-LAB-02/blob/main/ASSIGNMENT2pandas.ipynb\" target=\"_parent\"><img src=\"https://colab.research.google.com/assets/colab-badge.svg\" alt=\"Open In Colab\"/></a>"
      ]
    },
    {
      "cell_type": "code",
      "metadata": {
        "id": "D1rAQ2ZPD-kH"
      },
      "source": [
        "import pandas as pd"
      ],
      "execution_count": 9,
      "outputs": []
    },
    {
      "cell_type": "code",
      "metadata": {
        "id": "xxY1XLxxEIA4"
      },
      "source": [
        "import numpy as np"
      ],
      "execution_count": 10,
      "outputs": []
    },
    {
      "cell_type": "code",
      "metadata": {
        "colab": {
          "base_uri": "https://localhost:8080/",
          "height": 195
        },
        "id": "nnf8-9ebEMsn",
        "outputId": "7233d518-d023-407f-8cf8-3ecbf89b5668"
      },
      "source": [
        "data=[1,2,3,4,5]\n",
        "df=pd.DataFrame(data)\n",
        "df"
      ],
      "execution_count": 11,
      "outputs": [
        {
          "output_type": "execute_result",
          "data": {
            "text/html": [
              "<div>\n",
              "<style scoped>\n",
              "    .dataframe tbody tr th:only-of-type {\n",
              "        vertical-align: middle;\n",
              "    }\n",
              "\n",
              "    .dataframe tbody tr th {\n",
              "        vertical-align: top;\n",
              "    }\n",
              "\n",
              "    .dataframe thead th {\n",
              "        text-align: right;\n",
              "    }\n",
              "</style>\n",
              "<table border=\"1\" class=\"dataframe\">\n",
              "  <thead>\n",
              "    <tr style=\"text-align: right;\">\n",
              "      <th></th>\n",
              "      <th>0</th>\n",
              "    </tr>\n",
              "  </thead>\n",
              "  <tbody>\n",
              "    <tr>\n",
              "      <th>0</th>\n",
              "      <td>1</td>\n",
              "    </tr>\n",
              "    <tr>\n",
              "      <th>1</th>\n",
              "      <td>2</td>\n",
              "    </tr>\n",
              "    <tr>\n",
              "      <th>2</th>\n",
              "      <td>3</td>\n",
              "    </tr>\n",
              "    <tr>\n",
              "      <th>3</th>\n",
              "      <td>4</td>\n",
              "    </tr>\n",
              "    <tr>\n",
              "      <th>4</th>\n",
              "      <td>5</td>\n",
              "    </tr>\n",
              "  </tbody>\n",
              "</table>\n",
              "</div>"
            ],
            "text/plain": [
              "   0\n",
              "0  1\n",
              "1  2\n",
              "2  3\n",
              "3  4\n",
              "4  5"
            ]
          },
          "metadata": {
            "tags": []
          },
          "execution_count": 11
        }
      ]
    },
    {
      "cell_type": "code",
      "metadata": {
        "colab": {
          "base_uri": "https://localhost:8080/",
          "height": 136
        },
        "id": "v1LQOh9uEZh7",
        "outputId": "b745c35a-3ab5-42e6-ca09-8e9be9eda03c"
      },
      "source": [
        "data=[['Alex' ,10],['jyoti' ,15],['deba',20]]\n",
        "df=pd.DataFrame(data)\n",
        "df"
      ],
      "execution_count": 12,
      "outputs": [
        {
          "output_type": "execute_result",
          "data": {
            "text/html": [
              "<div>\n",
              "<style scoped>\n",
              "    .dataframe tbody tr th:only-of-type {\n",
              "        vertical-align: middle;\n",
              "    }\n",
              "\n",
              "    .dataframe tbody tr th {\n",
              "        vertical-align: top;\n",
              "    }\n",
              "\n",
              "    .dataframe thead th {\n",
              "        text-align: right;\n",
              "    }\n",
              "</style>\n",
              "<table border=\"1\" class=\"dataframe\">\n",
              "  <thead>\n",
              "    <tr style=\"text-align: right;\">\n",
              "      <th></th>\n",
              "      <th>0</th>\n",
              "      <th>1</th>\n",
              "    </tr>\n",
              "  </thead>\n",
              "  <tbody>\n",
              "    <tr>\n",
              "      <th>0</th>\n",
              "      <td>Alex</td>\n",
              "      <td>10</td>\n",
              "    </tr>\n",
              "    <tr>\n",
              "      <th>1</th>\n",
              "      <td>jyoti</td>\n",
              "      <td>15</td>\n",
              "    </tr>\n",
              "    <tr>\n",
              "      <th>2</th>\n",
              "      <td>deba</td>\n",
              "      <td>20</td>\n",
              "    </tr>\n",
              "  </tbody>\n",
              "</table>\n",
              "</div>"
            ],
            "text/plain": [
              "       0   1\n",
              "0   Alex  10\n",
              "1  jyoti  15\n",
              "2   deba  20"
            ]
          },
          "metadata": {
            "tags": []
          },
          "execution_count": 12
        }
      ]
    },
    {
      "cell_type": "code",
      "metadata": {
        "colab": {
          "base_uri": "https://localhost:8080/"
        },
        "id": "hrRtP5_TEzPZ",
        "outputId": "918c2926-3532-4662-c132-5d0c59bdfe59"
      },
      "source": [
        "s = pd.Series([1,3,5, np.nan,6,8])\n",
        "s"
      ],
      "execution_count": 13,
      "outputs": [
        {
          "output_type": "execute_result",
          "data": {
            "text/plain": [
              "0    1.0\n",
              "1    3.0\n",
              "2    5.0\n",
              "3    NaN\n",
              "4    6.0\n",
              "5    8.0\n",
              "dtype: float64"
            ]
          },
          "metadata": {
            "tags": []
          },
          "execution_count": 13
        }
      ]
    },
    {
      "cell_type": "code",
      "metadata": {
        "colab": {
          "base_uri": "https://localhost:8080/"
        },
        "id": "XsiHdgZPFFLb",
        "outputId": "8ec2d87e-c71d-4af5-c3a6-4ad8c44b8937"
      },
      "source": [
        "dates = pd.date_range('20140101' , periods=6)\n",
        "dates"
      ],
      "execution_count": 14,
      "outputs": [
        {
          "output_type": "execute_result",
          "data": {
            "text/plain": [
              "DatetimeIndex(['2014-01-01', '2014-01-02', '2014-01-03', '2014-01-04',\n",
              "               '2014-01-05', '2014-01-06'],\n",
              "              dtype='datetime64[ns]', freq='D')"
            ]
          },
          "metadata": {
            "tags": []
          },
          "execution_count": 14
        }
      ]
    },
    {
      "cell_type": "code",
      "metadata": {
        "colab": {
          "base_uri": "https://localhost:8080/",
          "height": 225
        },
        "id": "0pwJuwyUFYWu",
        "outputId": "fa9197e8-6f4a-43fd-d0ef-d7d35da260d5"
      },
      "source": [
        "df = pd.DataFrame(np.random.randn(6, 4) , index=dates, columns=list('ABCD'))\n",
        "df"
      ],
      "execution_count": 15,
      "outputs": [
        {
          "output_type": "execute_result",
          "data": {
            "text/html": [
              "<div>\n",
              "<style scoped>\n",
              "    .dataframe tbody tr th:only-of-type {\n",
              "        vertical-align: middle;\n",
              "    }\n",
              "\n",
              "    .dataframe tbody tr th {\n",
              "        vertical-align: top;\n",
              "    }\n",
              "\n",
              "    .dataframe thead th {\n",
              "        text-align: right;\n",
              "    }\n",
              "</style>\n",
              "<table border=\"1\" class=\"dataframe\">\n",
              "  <thead>\n",
              "    <tr style=\"text-align: right;\">\n",
              "      <th></th>\n",
              "      <th>A</th>\n",
              "      <th>B</th>\n",
              "      <th>C</th>\n",
              "      <th>D</th>\n",
              "    </tr>\n",
              "  </thead>\n",
              "  <tbody>\n",
              "    <tr>\n",
              "      <th>2014-01-01</th>\n",
              "      <td>-0.634098</td>\n",
              "      <td>0.518049</td>\n",
              "      <td>1.022262</td>\n",
              "      <td>0.496633</td>\n",
              "    </tr>\n",
              "    <tr>\n",
              "      <th>2014-01-02</th>\n",
              "      <td>0.177553</td>\n",
              "      <td>0.227182</td>\n",
              "      <td>1.413978</td>\n",
              "      <td>-0.038262</td>\n",
              "    </tr>\n",
              "    <tr>\n",
              "      <th>2014-01-03</th>\n",
              "      <td>-0.307435</td>\n",
              "      <td>-1.507809</td>\n",
              "      <td>0.467086</td>\n",
              "      <td>0.260309</td>\n",
              "    </tr>\n",
              "    <tr>\n",
              "      <th>2014-01-04</th>\n",
              "      <td>0.812615</td>\n",
              "      <td>1.068411</td>\n",
              "      <td>0.309262</td>\n",
              "      <td>-1.382355</td>\n",
              "    </tr>\n",
              "    <tr>\n",
              "      <th>2014-01-05</th>\n",
              "      <td>0.691176</td>\n",
              "      <td>-1.586410</td>\n",
              "      <td>-0.951916</td>\n",
              "      <td>-2.153178</td>\n",
              "    </tr>\n",
              "    <tr>\n",
              "      <th>2014-01-06</th>\n",
              "      <td>1.087529</td>\n",
              "      <td>-1.828476</td>\n",
              "      <td>0.005636</td>\n",
              "      <td>-0.501755</td>\n",
              "    </tr>\n",
              "  </tbody>\n",
              "</table>\n",
              "</div>"
            ],
            "text/plain": [
              "                   A         B         C         D\n",
              "2014-01-01 -0.634098  0.518049  1.022262  0.496633\n",
              "2014-01-02  0.177553  0.227182  1.413978 -0.038262\n",
              "2014-01-03 -0.307435 -1.507809  0.467086  0.260309\n",
              "2014-01-04  0.812615  1.068411  0.309262 -1.382355\n",
              "2014-01-05  0.691176 -1.586410 -0.951916 -2.153178\n",
              "2014-01-06  1.087529 -1.828476  0.005636 -0.501755"
            ]
          },
          "metadata": {
            "tags": []
          },
          "execution_count": 15
        }
      ]
    },
    {
      "cell_type": "code",
      "metadata": {
        "id": "HvMeDW-AFyxu",
        "colab": {
          "base_uri": "https://localhost:8080/",
          "height": 166
        },
        "outputId": "35f7b12f-351e-4c4a-f4a4-7cfae560d416"
      },
      "source": [
        "df2 = pd.DataFrame({'A': 1., 'B': pd.Timestamp('20140102'), 'C': pd.Series(1, index=list(range(4)), dtype= 'float32'), 'D': np.array([3] * 4 , dtype='int32'), 'E': pd.Categorical([\"test\" , \"train\" , \"test\" ,\"train\"]), 'F': 'foo'})\n",
        "df2"
      ],
      "execution_count": 17,
      "outputs": [
        {
          "output_type": "execute_result",
          "data": {
            "text/html": [
              "<div>\n",
              "<style scoped>\n",
              "    .dataframe tbody tr th:only-of-type {\n",
              "        vertical-align: middle;\n",
              "    }\n",
              "\n",
              "    .dataframe tbody tr th {\n",
              "        vertical-align: top;\n",
              "    }\n",
              "\n",
              "    .dataframe thead th {\n",
              "        text-align: right;\n",
              "    }\n",
              "</style>\n",
              "<table border=\"1\" class=\"dataframe\">\n",
              "  <thead>\n",
              "    <tr style=\"text-align: right;\">\n",
              "      <th></th>\n",
              "      <th>A</th>\n",
              "      <th>B</th>\n",
              "      <th>C</th>\n",
              "      <th>D</th>\n",
              "      <th>E</th>\n",
              "      <th>F</th>\n",
              "    </tr>\n",
              "  </thead>\n",
              "  <tbody>\n",
              "    <tr>\n",
              "      <th>0</th>\n",
              "      <td>1.0</td>\n",
              "      <td>2014-01-02</td>\n",
              "      <td>1.0</td>\n",
              "      <td>3</td>\n",
              "      <td>test</td>\n",
              "      <td>foo</td>\n",
              "    </tr>\n",
              "    <tr>\n",
              "      <th>1</th>\n",
              "      <td>1.0</td>\n",
              "      <td>2014-01-02</td>\n",
              "      <td>1.0</td>\n",
              "      <td>3</td>\n",
              "      <td>train</td>\n",
              "      <td>foo</td>\n",
              "    </tr>\n",
              "    <tr>\n",
              "      <th>2</th>\n",
              "      <td>1.0</td>\n",
              "      <td>2014-01-02</td>\n",
              "      <td>1.0</td>\n",
              "      <td>3</td>\n",
              "      <td>test</td>\n",
              "      <td>foo</td>\n",
              "    </tr>\n",
              "    <tr>\n",
              "      <th>3</th>\n",
              "      <td>1.0</td>\n",
              "      <td>2014-01-02</td>\n",
              "      <td>1.0</td>\n",
              "      <td>3</td>\n",
              "      <td>train</td>\n",
              "      <td>foo</td>\n",
              "    </tr>\n",
              "  </tbody>\n",
              "</table>\n",
              "</div>"
            ],
            "text/plain": [
              "     A          B    C  D      E    F\n",
              "0  1.0 2014-01-02  1.0  3   test  foo\n",
              "1  1.0 2014-01-02  1.0  3  train  foo\n",
              "2  1.0 2014-01-02  1.0  3   test  foo\n",
              "3  1.0 2014-01-02  1.0  3  train  foo"
            ]
          },
          "metadata": {
            "tags": []
          },
          "execution_count": 17
        }
      ]
    },
    {
      "cell_type": "code",
      "metadata": {
        "colab": {
          "base_uri": "https://localhost:8080/",
          "height": 195
        },
        "id": "0ZJi9vuNrKul",
        "outputId": "cf6ddeb8-93d2-4565-934b-af9cbf64aa02"
      },
      "source": [
        "df.head()"
      ],
      "execution_count": 18,
      "outputs": [
        {
          "output_type": "execute_result",
          "data": {
            "text/html": [
              "<div>\n",
              "<style scoped>\n",
              "    .dataframe tbody tr th:only-of-type {\n",
              "        vertical-align: middle;\n",
              "    }\n",
              "\n",
              "    .dataframe tbody tr th {\n",
              "        vertical-align: top;\n",
              "    }\n",
              "\n",
              "    .dataframe thead th {\n",
              "        text-align: right;\n",
              "    }\n",
              "</style>\n",
              "<table border=\"1\" class=\"dataframe\">\n",
              "  <thead>\n",
              "    <tr style=\"text-align: right;\">\n",
              "      <th></th>\n",
              "      <th>A</th>\n",
              "      <th>B</th>\n",
              "      <th>C</th>\n",
              "      <th>D</th>\n",
              "    </tr>\n",
              "  </thead>\n",
              "  <tbody>\n",
              "    <tr>\n",
              "      <th>2014-01-01</th>\n",
              "      <td>-0.634098</td>\n",
              "      <td>0.518049</td>\n",
              "      <td>1.022262</td>\n",
              "      <td>0.496633</td>\n",
              "    </tr>\n",
              "    <tr>\n",
              "      <th>2014-01-02</th>\n",
              "      <td>0.177553</td>\n",
              "      <td>0.227182</td>\n",
              "      <td>1.413978</td>\n",
              "      <td>-0.038262</td>\n",
              "    </tr>\n",
              "    <tr>\n",
              "      <th>2014-01-03</th>\n",
              "      <td>-0.307435</td>\n",
              "      <td>-1.507809</td>\n",
              "      <td>0.467086</td>\n",
              "      <td>0.260309</td>\n",
              "    </tr>\n",
              "    <tr>\n",
              "      <th>2014-01-04</th>\n",
              "      <td>0.812615</td>\n",
              "      <td>1.068411</td>\n",
              "      <td>0.309262</td>\n",
              "      <td>-1.382355</td>\n",
              "    </tr>\n",
              "    <tr>\n",
              "      <th>2014-01-05</th>\n",
              "      <td>0.691176</td>\n",
              "      <td>-1.586410</td>\n",
              "      <td>-0.951916</td>\n",
              "      <td>-2.153178</td>\n",
              "    </tr>\n",
              "  </tbody>\n",
              "</table>\n",
              "</div>"
            ],
            "text/plain": [
              "                   A         B         C         D\n",
              "2014-01-01 -0.634098  0.518049  1.022262  0.496633\n",
              "2014-01-02  0.177553  0.227182  1.413978 -0.038262\n",
              "2014-01-03 -0.307435 -1.507809  0.467086  0.260309\n",
              "2014-01-04  0.812615  1.068411  0.309262 -1.382355\n",
              "2014-01-05  0.691176 -1.586410 -0.951916 -2.153178"
            ]
          },
          "metadata": {
            "tags": []
          },
          "execution_count": 18
        }
      ]
    },
    {
      "cell_type": "code",
      "metadata": {
        "colab": {
          "base_uri": "https://localhost:8080/",
          "height": 136
        },
        "id": "aZmI3ZYQrQYM",
        "outputId": "d1b3a015-1fa2-41cb-9432-24cd27d911e8"
      },
      "source": [
        "df.tail(3)"
      ],
      "execution_count": 19,
      "outputs": [
        {
          "output_type": "execute_result",
          "data": {
            "text/html": [
              "<div>\n",
              "<style scoped>\n",
              "    .dataframe tbody tr th:only-of-type {\n",
              "        vertical-align: middle;\n",
              "    }\n",
              "\n",
              "    .dataframe tbody tr th {\n",
              "        vertical-align: top;\n",
              "    }\n",
              "\n",
              "    .dataframe thead th {\n",
              "        text-align: right;\n",
              "    }\n",
              "</style>\n",
              "<table border=\"1\" class=\"dataframe\">\n",
              "  <thead>\n",
              "    <tr style=\"text-align: right;\">\n",
              "      <th></th>\n",
              "      <th>A</th>\n",
              "      <th>B</th>\n",
              "      <th>C</th>\n",
              "      <th>D</th>\n",
              "    </tr>\n",
              "  </thead>\n",
              "  <tbody>\n",
              "    <tr>\n",
              "      <th>2014-01-04</th>\n",
              "      <td>0.812615</td>\n",
              "      <td>1.068411</td>\n",
              "      <td>0.309262</td>\n",
              "      <td>-1.382355</td>\n",
              "    </tr>\n",
              "    <tr>\n",
              "      <th>2014-01-05</th>\n",
              "      <td>0.691176</td>\n",
              "      <td>-1.586410</td>\n",
              "      <td>-0.951916</td>\n",
              "      <td>-2.153178</td>\n",
              "    </tr>\n",
              "    <tr>\n",
              "      <th>2014-01-06</th>\n",
              "      <td>1.087529</td>\n",
              "      <td>-1.828476</td>\n",
              "      <td>0.005636</td>\n",
              "      <td>-0.501755</td>\n",
              "    </tr>\n",
              "  </tbody>\n",
              "</table>\n",
              "</div>"
            ],
            "text/plain": [
              "                   A         B         C         D\n",
              "2014-01-04  0.812615  1.068411  0.309262 -1.382355\n",
              "2014-01-05  0.691176 -1.586410 -0.951916 -2.153178\n",
              "2014-01-06  1.087529 -1.828476  0.005636 -0.501755"
            ]
          },
          "metadata": {
            "tags": []
          },
          "execution_count": 19
        }
      ]
    },
    {
      "cell_type": "code",
      "metadata": {
        "colab": {
          "base_uri": "https://localhost:8080/"
        },
        "id": "0UUc7OnirV6m",
        "outputId": "0bdd4474-a836-4f0a-8ab2-485d4952dcfb"
      },
      "source": [
        "df.index"
      ],
      "execution_count": 20,
      "outputs": [
        {
          "output_type": "execute_result",
          "data": {
            "text/plain": [
              "DatetimeIndex(['2014-01-01', '2014-01-02', '2014-01-03', '2014-01-04',\n",
              "               '2014-01-05', '2014-01-06'],\n",
              "              dtype='datetime64[ns]', freq='D')"
            ]
          },
          "metadata": {
            "tags": []
          },
          "execution_count": 20
        }
      ]
    },
    {
      "cell_type": "code",
      "metadata": {
        "colab": {
          "base_uri": "https://localhost:8080/"
        },
        "id": "S-KMkkgqrZym",
        "outputId": "cb0ca72f-6490-481e-9ab4-41230d1d4601"
      },
      "source": [
        "df.columns"
      ],
      "execution_count": 21,
      "outputs": [
        {
          "output_type": "execute_result",
          "data": {
            "text/plain": [
              "Index(['A', 'B', 'C', 'D'], dtype='object')"
            ]
          },
          "metadata": {
            "tags": []
          },
          "execution_count": 21
        }
      ]
    },
    {
      "cell_type": "code",
      "metadata": {
        "colab": {
          "base_uri": "https://localhost:8080/"
        },
        "id": "A1dkQasnrd8N",
        "outputId": "9e38fbbf-d2f8-48c6-e446-50e623356157"
      },
      "source": [
        "df.to_numpy()"
      ],
      "execution_count": 22,
      "outputs": [
        {
          "output_type": "execute_result",
          "data": {
            "text/plain": [
              "array([[-0.63409755,  0.51804851,  1.0222624 ,  0.49663266],\n",
              "       [ 0.17755337,  0.22718194,  1.41397821, -0.03826172],\n",
              "       [-0.30743513, -1.50780884,  0.46708635,  0.2603094 ],\n",
              "       [ 0.81261534,  1.06841105,  0.30926163, -1.38235471],\n",
              "       [ 0.69117639, -1.5864102 , -0.951916  , -2.15317784],\n",
              "       [ 1.087529  , -1.82847641,  0.00563595, -0.50175485]])"
            ]
          },
          "metadata": {
            "tags": []
          },
          "execution_count": 22
        }
      ]
    },
    {
      "cell_type": "code",
      "metadata": {
        "colab": {
          "base_uri": "https://localhost:8080/"
        },
        "id": "8P_C5A-GrjSX",
        "outputId": "2eecb232-c02c-4409-c475-3724a07c8fb7"
      },
      "source": [
        "df2.to_numpy()"
      ],
      "execution_count": 23,
      "outputs": [
        {
          "output_type": "execute_result",
          "data": {
            "text/plain": [
              "array([[1.0, Timestamp('2014-01-02 00:00:00'), 1.0, 3, 'test', 'foo'],\n",
              "       [1.0, Timestamp('2014-01-02 00:00:00'), 1.0, 3, 'train', 'foo'],\n",
              "       [1.0, Timestamp('2014-01-02 00:00:00'), 1.0, 3, 'test', 'foo'],\n",
              "       [1.0, Timestamp('2014-01-02 00:00:00'), 1.0, 3, 'train', 'foo']],\n",
              "      dtype=object)"
            ]
          },
          "metadata": {
            "tags": []
          },
          "execution_count": 23
        }
      ]
    },
    {
      "cell_type": "code",
      "metadata": {
        "colab": {
          "base_uri": "https://localhost:8080/",
          "height": 284
        },
        "id": "Qy4EolIMroJz",
        "outputId": "443c336c-f634-4f9e-efff-e2ae71b16a83"
      },
      "source": [
        "df2.describe()"
      ],
      "execution_count": 24,
      "outputs": [
        {
          "output_type": "execute_result",
          "data": {
            "text/html": [
              "<div>\n",
              "<style scoped>\n",
              "    .dataframe tbody tr th:only-of-type {\n",
              "        vertical-align: middle;\n",
              "    }\n",
              "\n",
              "    .dataframe tbody tr th {\n",
              "        vertical-align: top;\n",
              "    }\n",
              "\n",
              "    .dataframe thead th {\n",
              "        text-align: right;\n",
              "    }\n",
              "</style>\n",
              "<table border=\"1\" class=\"dataframe\">\n",
              "  <thead>\n",
              "    <tr style=\"text-align: right;\">\n",
              "      <th></th>\n",
              "      <th>A</th>\n",
              "      <th>C</th>\n",
              "      <th>D</th>\n",
              "    </tr>\n",
              "  </thead>\n",
              "  <tbody>\n",
              "    <tr>\n",
              "      <th>count</th>\n",
              "      <td>4.0</td>\n",
              "      <td>4.0</td>\n",
              "      <td>4.0</td>\n",
              "    </tr>\n",
              "    <tr>\n",
              "      <th>mean</th>\n",
              "      <td>1.0</td>\n",
              "      <td>1.0</td>\n",
              "      <td>3.0</td>\n",
              "    </tr>\n",
              "    <tr>\n",
              "      <th>std</th>\n",
              "      <td>0.0</td>\n",
              "      <td>0.0</td>\n",
              "      <td>0.0</td>\n",
              "    </tr>\n",
              "    <tr>\n",
              "      <th>min</th>\n",
              "      <td>1.0</td>\n",
              "      <td>1.0</td>\n",
              "      <td>3.0</td>\n",
              "    </tr>\n",
              "    <tr>\n",
              "      <th>25%</th>\n",
              "      <td>1.0</td>\n",
              "      <td>1.0</td>\n",
              "      <td>3.0</td>\n",
              "    </tr>\n",
              "    <tr>\n",
              "      <th>50%</th>\n",
              "      <td>1.0</td>\n",
              "      <td>1.0</td>\n",
              "      <td>3.0</td>\n",
              "    </tr>\n",
              "    <tr>\n",
              "      <th>75%</th>\n",
              "      <td>1.0</td>\n",
              "      <td>1.0</td>\n",
              "      <td>3.0</td>\n",
              "    </tr>\n",
              "    <tr>\n",
              "      <th>max</th>\n",
              "      <td>1.0</td>\n",
              "      <td>1.0</td>\n",
              "      <td>3.0</td>\n",
              "    </tr>\n",
              "  </tbody>\n",
              "</table>\n",
              "</div>"
            ],
            "text/plain": [
              "         A    C    D\n",
              "count  4.0  4.0  4.0\n",
              "mean   1.0  1.0  3.0\n",
              "std    0.0  0.0  0.0\n",
              "min    1.0  1.0  3.0\n",
              "25%    1.0  1.0  3.0\n",
              "50%    1.0  1.0  3.0\n",
              "75%    1.0  1.0  3.0\n",
              "max    1.0  1.0  3.0"
            ]
          },
          "metadata": {
            "tags": []
          },
          "execution_count": 24
        }
      ]
    },
    {
      "cell_type": "code",
      "metadata": {
        "colab": {
          "base_uri": "https://localhost:8080/",
          "height": 284
        },
        "id": "J6oDJsZtrvPX",
        "outputId": "40426add-e5f0-48ac-b366-b93e7c77afc8"
      },
      "source": [
        "df.describe()"
      ],
      "execution_count": 25,
      "outputs": [
        {
          "output_type": "execute_result",
          "data": {
            "text/html": [
              "<div>\n",
              "<style scoped>\n",
              "    .dataframe tbody tr th:only-of-type {\n",
              "        vertical-align: middle;\n",
              "    }\n",
              "\n",
              "    .dataframe tbody tr th {\n",
              "        vertical-align: top;\n",
              "    }\n",
              "\n",
              "    .dataframe thead th {\n",
              "        text-align: right;\n",
              "    }\n",
              "</style>\n",
              "<table border=\"1\" class=\"dataframe\">\n",
              "  <thead>\n",
              "    <tr style=\"text-align: right;\">\n",
              "      <th></th>\n",
              "      <th>A</th>\n",
              "      <th>B</th>\n",
              "      <th>C</th>\n",
              "      <th>D</th>\n",
              "    </tr>\n",
              "  </thead>\n",
              "  <tbody>\n",
              "    <tr>\n",
              "      <th>count</th>\n",
              "      <td>6.000000</td>\n",
              "      <td>6.000000</td>\n",
              "      <td>6.000000</td>\n",
              "      <td>6.000000</td>\n",
              "    </tr>\n",
              "    <tr>\n",
              "      <th>mean</th>\n",
              "      <td>0.304557</td>\n",
              "      <td>-0.518176</td>\n",
              "      <td>0.377718</td>\n",
              "      <td>-0.553101</td>\n",
              "    </tr>\n",
              "    <tr>\n",
              "      <th>std</th>\n",
              "      <td>0.677109</td>\n",
              "      <td>1.263643</td>\n",
              "      <td>0.825629</td>\n",
              "      <td>1.027539</td>\n",
              "    </tr>\n",
              "    <tr>\n",
              "      <th>min</th>\n",
              "      <td>-0.634098</td>\n",
              "      <td>-1.828476</td>\n",
              "      <td>-0.951916</td>\n",
              "      <td>-2.153178</td>\n",
              "    </tr>\n",
              "    <tr>\n",
              "      <th>25%</th>\n",
              "      <td>-0.186188</td>\n",
              "      <td>-1.566760</td>\n",
              "      <td>0.081542</td>\n",
              "      <td>-1.162205</td>\n",
              "    </tr>\n",
              "    <tr>\n",
              "      <th>50%</th>\n",
              "      <td>0.434365</td>\n",
              "      <td>-0.640313</td>\n",
              "      <td>0.388174</td>\n",
              "      <td>-0.270008</td>\n",
              "    </tr>\n",
              "    <tr>\n",
              "      <th>75%</th>\n",
              "      <td>0.782256</td>\n",
              "      <td>0.445332</td>\n",
              "      <td>0.883468</td>\n",
              "      <td>0.185667</td>\n",
              "    </tr>\n",
              "    <tr>\n",
              "      <th>max</th>\n",
              "      <td>1.087529</td>\n",
              "      <td>1.068411</td>\n",
              "      <td>1.413978</td>\n",
              "      <td>0.496633</td>\n",
              "    </tr>\n",
              "  </tbody>\n",
              "</table>\n",
              "</div>"
            ],
            "text/plain": [
              "              A         B         C         D\n",
              "count  6.000000  6.000000  6.000000  6.000000\n",
              "mean   0.304557 -0.518176  0.377718 -0.553101\n",
              "std    0.677109  1.263643  0.825629  1.027539\n",
              "min   -0.634098 -1.828476 -0.951916 -2.153178\n",
              "25%   -0.186188 -1.566760  0.081542 -1.162205\n",
              "50%    0.434365 -0.640313  0.388174 -0.270008\n",
              "75%    0.782256  0.445332  0.883468  0.185667\n",
              "max    1.087529  1.068411  1.413978  0.496633"
            ]
          },
          "metadata": {
            "tags": []
          },
          "execution_count": 25
        }
      ]
    },
    {
      "cell_type": "code",
      "metadata": {
        "colab": {
          "base_uri": "https://localhost:8080/",
          "height": 166
        },
        "id": "1LZRnwZzrzal",
        "outputId": "58754597-db24-44ac-cbf3-0d867952ff2b"
      },
      "source": [
        "df.T"
      ],
      "execution_count": 26,
      "outputs": [
        {
          "output_type": "execute_result",
          "data": {
            "text/html": [
              "<div>\n",
              "<style scoped>\n",
              "    .dataframe tbody tr th:only-of-type {\n",
              "        vertical-align: middle;\n",
              "    }\n",
              "\n",
              "    .dataframe tbody tr th {\n",
              "        vertical-align: top;\n",
              "    }\n",
              "\n",
              "    .dataframe thead th {\n",
              "        text-align: right;\n",
              "    }\n",
              "</style>\n",
              "<table border=\"1\" class=\"dataframe\">\n",
              "  <thead>\n",
              "    <tr style=\"text-align: right;\">\n",
              "      <th></th>\n",
              "      <th>2014-01-01</th>\n",
              "      <th>2014-01-02</th>\n",
              "      <th>2014-01-03</th>\n",
              "      <th>2014-01-04</th>\n",
              "      <th>2014-01-05</th>\n",
              "      <th>2014-01-06</th>\n",
              "    </tr>\n",
              "  </thead>\n",
              "  <tbody>\n",
              "    <tr>\n",
              "      <th>A</th>\n",
              "      <td>-0.634098</td>\n",
              "      <td>0.177553</td>\n",
              "      <td>-0.307435</td>\n",
              "      <td>0.812615</td>\n",
              "      <td>0.691176</td>\n",
              "      <td>1.087529</td>\n",
              "    </tr>\n",
              "    <tr>\n",
              "      <th>B</th>\n",
              "      <td>0.518049</td>\n",
              "      <td>0.227182</td>\n",
              "      <td>-1.507809</td>\n",
              "      <td>1.068411</td>\n",
              "      <td>-1.586410</td>\n",
              "      <td>-1.828476</td>\n",
              "    </tr>\n",
              "    <tr>\n",
              "      <th>C</th>\n",
              "      <td>1.022262</td>\n",
              "      <td>1.413978</td>\n",
              "      <td>0.467086</td>\n",
              "      <td>0.309262</td>\n",
              "      <td>-0.951916</td>\n",
              "      <td>0.005636</td>\n",
              "    </tr>\n",
              "    <tr>\n",
              "      <th>D</th>\n",
              "      <td>0.496633</td>\n",
              "      <td>-0.038262</td>\n",
              "      <td>0.260309</td>\n",
              "      <td>-1.382355</td>\n",
              "      <td>-2.153178</td>\n",
              "      <td>-0.501755</td>\n",
              "    </tr>\n",
              "  </tbody>\n",
              "</table>\n",
              "</div>"
            ],
            "text/plain": [
              "   2014-01-01  2014-01-02  2014-01-03  2014-01-04  2014-01-05  2014-01-06\n",
              "A   -0.634098    0.177553   -0.307435    0.812615    0.691176    1.087529\n",
              "B    0.518049    0.227182   -1.507809    1.068411   -1.586410   -1.828476\n",
              "C    1.022262    1.413978    0.467086    0.309262   -0.951916    0.005636\n",
              "D    0.496633   -0.038262    0.260309   -1.382355   -2.153178   -0.501755"
            ]
          },
          "metadata": {
            "tags": []
          },
          "execution_count": 26
        }
      ]
    }
  ]
}