{
  "nbformat": 4,
  "nbformat_minor": 0,
  "metadata": {
    "colab": {
      "name": "Untitled7.ipynb",
      "provenance": [],
      "authorship_tag": "ABX9TyNpEMpzY55qXUsamcARedKw",
      "include_colab_link": true
    },
    "kernelspec": {
      "name": "python3",
      "display_name": "Python 3"
    }
  },
  "cells": [
    {
      "cell_type": "markdown",
      "metadata": {
        "id": "view-in-github",
        "colab_type": "text"
      },
      "source": [
        "<a href=\"https://colab.research.google.com/github/DebasisBehera-164/DMDW-LAB-02/blob/main/Assignment2.ipynb\" target=\"_parent\"><img src=\"https://colab.research.google.com/assets/colab-badge.svg\" alt=\"Open In Colab\"/></a>"
      ]
    },
    {
      "cell_type": "code",
      "metadata": {
        "id": "NlsOUL3TCwLP"
      },
      "source": [
        "import numpy as np"
      ],
      "execution_count": 1,
      "outputs": []
    },
    {
      "cell_type": "code",
      "metadata": {
        "id": "AXwYW2zqDWZm"
      },
      "source": [
        "from scipy import stats"
      ],
      "execution_count": 2,
      "outputs": []
    },
    {
      "cell_type": "code",
      "metadata": {
        "id": "JV5QMbJmDcZd"
      },
      "source": [
        "import pandas as pd"
      ],
      "execution_count": 3,
      "outputs": []
    },
    {
      "cell_type": "code",
      "metadata": {
        "colab": {
          "base_uri": "https://localhost:8080/",
          "height": 846
        },
        "id": "_eBnnrtyDgBk",
        "outputId": "976cb1f3-ff45-4b8c-d6b9-fdb47c4e9837"
      },
      "source": [
        "dataset=pd.read_csv(r\"https://raw.githubusercontent.com/DebasisBehera-164/DMDW-LAB-02/main/election%20dataset.csv\")\n",
        "dataset"
      ],
      "execution_count": 4,
      "outputs": [
        {
          "output_type": "execute_result",
          "data": {
            "text/html": [
              "<div>\n",
              "<style scoped>\n",
              "    .dataframe tbody tr th:only-of-type {\n",
              "        vertical-align: middle;\n",
              "    }\n",
              "\n",
              "    .dataframe tbody tr th {\n",
              "        vertical-align: top;\n",
              "    }\n",
              "\n",
              "    .dataframe thead th {\n",
              "        text-align: right;\n",
              "    }\n",
              "</style>\n",
              "<table border=\"1\" class=\"dataframe\">\n",
              "  <thead>\n",
              "    <tr style=\"text-align: right;\">\n",
              "      <th></th>\n",
              "      <th>handle</th>\n",
              "      <th>name</th>\n",
              "      <th>sex</th>\n",
              "      <th>born</th>\n",
              "      <th>announcement</th>\n",
              "      <th>party</th>\n",
              "      <th>city of residence</th>\n",
              "      <th>state of residence</th>\n",
              "      <th>children</th>\n",
              "    </tr>\n",
              "  </thead>\n",
              "  <tbody>\n",
              "    <tr>\n",
              "      <th>0</th>\n",
              "      <td>@sethmoulton</td>\n",
              "      <td>Seth Moulton</td>\n",
              "      <td>m</td>\n",
              "      <td>October 24, 1978</td>\n",
              "      <td>April 22, 2019</td>\n",
              "      <td>D</td>\n",
              "      <td>Salem</td>\n",
              "      <td>MA</td>\n",
              "      <td>1</td>\n",
              "    </tr>\n",
              "    <tr>\n",
              "      <th>1</th>\n",
              "      <td>@SenGillibrand</td>\n",
              "      <td>Kirsten Gillibrand</td>\n",
              "      <td>f</td>\n",
              "      <td>December 9, 1966</td>\n",
              "      <td>January 15, 2019</td>\n",
              "      <td>D</td>\n",
              "      <td>New York</td>\n",
              "      <td>NY</td>\n",
              "      <td>2</td>\n",
              "    </tr>\n",
              "    <tr>\n",
              "      <th>2</th>\n",
              "      <td>@Hickenlooper</td>\n",
              "      <td>John Hickenlooper</td>\n",
              "      <td>m</td>\n",
              "      <td>February 7, 1952</td>\n",
              "      <td>March 4, 2019</td>\n",
              "      <td>D</td>\n",
              "      <td>Denver</td>\n",
              "      <td>CO</td>\n",
              "      <td>1</td>\n",
              "    </tr>\n",
              "    <tr>\n",
              "      <th>3</th>\n",
              "      <td>@JohnDelaney</td>\n",
              "      <td>John Delaney</td>\n",
              "      <td>m</td>\n",
              "      <td>April 16, 1963</td>\n",
              "      <td>August 10, 2017</td>\n",
              "      <td>D</td>\n",
              "      <td>Chevy Chase</td>\n",
              "      <td>MD</td>\n",
              "      <td>4</td>\n",
              "    </tr>\n",
              "    <tr>\n",
              "      <th>4</th>\n",
              "      <td>@KamalaHarris</td>\n",
              "      <td>Kamala Harris</td>\n",
              "      <td>f</td>\n",
              "      <td>October 20, 1964</td>\n",
              "      <td>January 21, 2019</td>\n",
              "      <td>D</td>\n",
              "      <td>San Francisco</td>\n",
              "      <td>CA</td>\n",
              "      <td>0</td>\n",
              "    </tr>\n",
              "    <tr>\n",
              "      <th>5</th>\n",
              "      <td>@JoeBiden</td>\n",
              "      <td>Joe Biden</td>\n",
              "      <td>m</td>\n",
              "      <td>November 20, 1942</td>\n",
              "      <td>April 25, 2019</td>\n",
              "      <td>D</td>\n",
              "      <td>Wilmington</td>\n",
              "      <td>DE</td>\n",
              "      <td>4</td>\n",
              "    </tr>\n",
              "    <tr>\n",
              "      <th>6</th>\n",
              "      <td>@TimRyan</td>\n",
              "      <td>Tim Ryan</td>\n",
              "      <td>m</td>\n",
              "      <td>July 16, 1973</td>\n",
              "      <td>April 4, 2019</td>\n",
              "      <td>D</td>\n",
              "      <td>Howland</td>\n",
              "      <td>OH</td>\n",
              "      <td>1</td>\n",
              "    </tr>\n",
              "    <tr>\n",
              "      <th>7</th>\n",
              "      <td>@ewarren</td>\n",
              "      <td>Elizabeth Warren</td>\n",
              "      <td>f</td>\n",
              "      <td>June 22, 1949</td>\n",
              "      <td>February 9, 2019</td>\n",
              "      <td>D</td>\n",
              "      <td>Cambridge</td>\n",
              "      <td>MA</td>\n",
              "      <td>2</td>\n",
              "    </tr>\n",
              "    <tr>\n",
              "      <th>8</th>\n",
              "      <td>@realDonaldTrump</td>\n",
              "      <td>Donald Trump</td>\n",
              "      <td>m</td>\n",
              "      <td>June 14, 1946</td>\n",
              "      <td>NaN</td>\n",
              "      <td>R</td>\n",
              "      <td>New York</td>\n",
              "      <td>NY</td>\n",
              "      <td>5</td>\n",
              "    </tr>\n",
              "    <tr>\n",
              "      <th>9</th>\n",
              "      <td>@JulianCastro</td>\n",
              "      <td>Julian Castro</td>\n",
              "      <td>m</td>\n",
              "      <td>September 16, 1974</td>\n",
              "      <td>January 12, 2019</td>\n",
              "      <td>D</td>\n",
              "      <td>San Antonio</td>\n",
              "      <td>TX</td>\n",
              "      <td>2</td>\n",
              "    </tr>\n",
              "    <tr>\n",
              "      <th>10</th>\n",
              "      <td>@BilldeBlasio</td>\n",
              "      <td>Bill de Blasio</td>\n",
              "      <td>m</td>\n",
              "      <td>May 8, 1961</td>\n",
              "      <td>May 16, 2019</td>\n",
              "      <td>D</td>\n",
              "      <td>New York</td>\n",
              "      <td>NY</td>\n",
              "      <td>2</td>\n",
              "    </tr>\n",
              "    <tr>\n",
              "      <th>11</th>\n",
              "      <td>@marwilliamson</td>\n",
              "      <td>Marianne Williamson</td>\n",
              "      <td>f</td>\n",
              "      <td>July 8, 1952</td>\n",
              "      <td>January 28, 2019</td>\n",
              "      <td>D</td>\n",
              "      <td>Houston</td>\n",
              "      <td>TX</td>\n",
              "      <td>1</td>\n",
              "    </tr>\n",
              "    <tr>\n",
              "      <th>12</th>\n",
              "      <td>@BernieSanders</td>\n",
              "      <td>Bernie Sanders</td>\n",
              "      <td>m</td>\n",
              "      <td>September 8, 1941</td>\n",
              "      <td>February 19, 2019</td>\n",
              "      <td>D</td>\n",
              "      <td>Vermont</td>\n",
              "      <td>VT</td>\n",
              "      <td>4</td>\n",
              "    </tr>\n",
              "    <tr>\n",
              "      <th>13</th>\n",
              "      <td>@CoryBooker</td>\n",
              "      <td>Cory Booker</td>\n",
              "      <td>m</td>\n",
              "      <td>April 27, 1969</td>\n",
              "      <td>February 1, 2019</td>\n",
              "      <td>D</td>\n",
              "      <td>Newark</td>\n",
              "      <td>NJ</td>\n",
              "      <td>0</td>\n",
              "    </tr>\n",
              "    <tr>\n",
              "      <th>14</th>\n",
              "      <td>@mike_pence</td>\n",
              "      <td>Mike Pence</td>\n",
              "      <td>m</td>\n",
              "      <td>June 7, 1959</td>\n",
              "      <td>NaN</td>\n",
              "      <td>R</td>\n",
              "      <td>Columbus</td>\n",
              "      <td>IN</td>\n",
              "      <td>3</td>\n",
              "    </tr>\n",
              "    <tr>\n",
              "      <th>15</th>\n",
              "      <td>@AndrewYang</td>\n",
              "      <td>Andrew Yang</td>\n",
              "      <td>m</td>\n",
              "      <td>January 13, 1975</td>\n",
              "      <td>November 6, 2017</td>\n",
              "      <td>D</td>\n",
              "      <td>New York</td>\n",
              "      <td>NY</td>\n",
              "      <td>2</td>\n",
              "    </tr>\n",
              "    <tr>\n",
              "      <th>16</th>\n",
              "      <td>@ericswalwell</td>\n",
              "      <td>Eric Swalwell</td>\n",
              "      <td>m</td>\n",
              "      <td>November 16, 1980</td>\n",
              "      <td>April 8, 2019</td>\n",
              "      <td>D</td>\n",
              "      <td>Pleasanton</td>\n",
              "      <td>CA</td>\n",
              "      <td>2</td>\n",
              "    </tr>\n",
              "    <tr>\n",
              "      <th>17</th>\n",
              "      <td>@MikeGravel</td>\n",
              "      <td>Mike Gravel</td>\n",
              "      <td>m</td>\n",
              "      <td>May 13, 1930</td>\n",
              "      <td>April 2, 2019</td>\n",
              "      <td>D</td>\n",
              "      <td>Burlingame</td>\n",
              "      <td>CA</td>\n",
              "      <td>2</td>\n",
              "    </tr>\n",
              "    <tr>\n",
              "      <th>18</th>\n",
              "      <td>@JayInslee</td>\n",
              "      <td>Jay Inslee</td>\n",
              "      <td>m</td>\n",
              "      <td>February 9, 1951</td>\n",
              "      <td>March 1, 2019</td>\n",
              "      <td>D</td>\n",
              "      <td>Olympia</td>\n",
              "      <td>WA</td>\n",
              "      <td>3</td>\n",
              "    </tr>\n",
              "    <tr>\n",
              "      <th>19</th>\n",
              "      <td>@GovernorBullock</td>\n",
              "      <td>Steve Bullock</td>\n",
              "      <td>m</td>\n",
              "      <td>April 11, 1966</td>\n",
              "      <td>May 14, 2019</td>\n",
              "      <td>D</td>\n",
              "      <td>Helena</td>\n",
              "      <td>MT</td>\n",
              "      <td>3</td>\n",
              "    </tr>\n",
              "    <tr>\n",
              "      <th>20</th>\n",
              "      <td>@MichaelBennet</td>\n",
              "      <td>Michael Bennet</td>\n",
              "      <td>m</td>\n",
              "      <td>November 28, 1964</td>\n",
              "      <td>May 2, 2019</td>\n",
              "      <td>D</td>\n",
              "      <td>Denver</td>\n",
              "      <td>CO</td>\n",
              "      <td>3</td>\n",
              "    </tr>\n",
              "    <tr>\n",
              "      <th>21</th>\n",
              "      <td>@BetoORourke</td>\n",
              "      <td>Beto O'Rourke</td>\n",
              "      <td>m</td>\n",
              "      <td>September 26, 1972</td>\n",
              "      <td>March 14, 2019</td>\n",
              "      <td>D</td>\n",
              "      <td>El Paso</td>\n",
              "      <td>TX</td>\n",
              "      <td>3</td>\n",
              "    </tr>\n",
              "    <tr>\n",
              "      <th>22</th>\n",
              "      <td>@PeteButtigieg</td>\n",
              "      <td>Pete Buttigieg</td>\n",
              "      <td>m</td>\n",
              "      <td>January 19, 1982</td>\n",
              "      <td>January 23, 2019</td>\n",
              "      <td>D</td>\n",
              "      <td>South Bend</td>\n",
              "      <td>IN</td>\n",
              "      <td>0</td>\n",
              "    </tr>\n",
              "    <tr>\n",
              "      <th>23</th>\n",
              "      <td>@TulsiGabbard</td>\n",
              "      <td>Tulsi Gabbard</td>\n",
              "      <td>f</td>\n",
              "      <td>April 12, 1981</td>\n",
              "      <td>January 11, 2019</td>\n",
              "      <td>D</td>\n",
              "      <td>Honoluly</td>\n",
              "      <td>HI</td>\n",
              "      <td>0</td>\n",
              "    </tr>\n",
              "    <tr>\n",
              "      <th>24</th>\n",
              "      <td>@amyklobuchar</td>\n",
              "      <td>Amy Klobuchar</td>\n",
              "      <td>f</td>\n",
              "      <td>May 25, 1960</td>\n",
              "      <td>February 10, 2019</td>\n",
              "      <td>D</td>\n",
              "      <td>Minneapolis</td>\n",
              "      <td>MN</td>\n",
              "      <td>1</td>\n",
              "    </tr>\n",
              "    <tr>\n",
              "      <th>25</th>\n",
              "      <td>@WayneMessam</td>\n",
              "      <td>Wayne Messam</td>\n",
              "      <td>m</td>\n",
              "      <td>June 7, 1974</td>\n",
              "      <td>March 13, 2019</td>\n",
              "      <td>D</td>\n",
              "      <td>Miramar</td>\n",
              "      <td>FL</td>\n",
              "      <td>3</td>\n",
              "    </tr>\n",
              "    <tr>\n",
              "      <th>26</th>\n",
              "      <td>@GovBillWeld</td>\n",
              "      <td>Bill Weld</td>\n",
              "      <td>m</td>\n",
              "      <td>July 31, 1945</td>\n",
              "      <td>April 15, 2019</td>\n",
              "      <td>R</td>\n",
              "      <td>New York</td>\n",
              "      <td>NY</td>\n",
              "      <td>5</td>\n",
              "    </tr>\n",
              "  </tbody>\n",
              "</table>\n",
              "</div>"
            ],
            "text/plain": [
              "              handle                 name  ... state of residence children\n",
              "0       @sethmoulton         Seth Moulton  ...                 MA        1\n",
              "1     @SenGillibrand   Kirsten Gillibrand  ...                 NY        2\n",
              "2      @Hickenlooper    John Hickenlooper  ...                 CO        1\n",
              "3       @JohnDelaney         John Delaney  ...                 MD        4\n",
              "4      @KamalaHarris        Kamala Harris  ...                 CA        0\n",
              "5          @JoeBiden            Joe Biden  ...                 DE        4\n",
              "6           @TimRyan             Tim Ryan  ...                 OH        1\n",
              "7           @ewarren     Elizabeth Warren  ...                 MA        2\n",
              "8   @realDonaldTrump         Donald Trump  ...                 NY        5\n",
              "9      @JulianCastro        Julian Castro  ...                 TX        2\n",
              "10     @BilldeBlasio       Bill de Blasio  ...                 NY        2\n",
              "11    @marwilliamson  Marianne Williamson  ...                 TX        1\n",
              "12    @BernieSanders       Bernie Sanders  ...                 VT        4\n",
              "13       @CoryBooker          Cory Booker  ...                 NJ        0\n",
              "14       @mike_pence           Mike Pence  ...                 IN        3\n",
              "15       @AndrewYang          Andrew Yang  ...                 NY        2\n",
              "16     @ericswalwell        Eric Swalwell  ...                 CA        2\n",
              "17       @MikeGravel          Mike Gravel  ...                 CA        2\n",
              "18        @JayInslee           Jay Inslee  ...                 WA        3\n",
              "19  @GovernorBullock        Steve Bullock  ...                 MT        3\n",
              "20    @MichaelBennet       Michael Bennet  ...                 CO        3\n",
              "21      @BetoORourke        Beto O'Rourke  ...                 TX        3\n",
              "22    @PeteButtigieg       Pete Buttigieg  ...                 IN        0\n",
              "23     @TulsiGabbard        Tulsi Gabbard  ...                 HI        0\n",
              "24     @amyklobuchar        Amy Klobuchar  ...                 MN        1\n",
              "25      @WayneMessam         Wayne Messam  ...                 FL        3\n",
              "26      @GovBillWeld            Bill Weld  ...                 NY        5\n",
              "\n",
              "[27 rows x 9 columns]"
            ]
          },
          "metadata": {
            "tags": []
          },
          "execution_count": 4
        }
      ]
    },
    {
      "cell_type": "code",
      "metadata": {
        "colab": {
          "base_uri": "https://localhost:8080/",
          "height": 195
        },
        "id": "lTjakcCcDz_t",
        "outputId": "8214ab10-284c-493f-b732-9f9701bce894"
      },
      "source": [
        "dataset.head()"
      ],
      "execution_count": 5,
      "outputs": [
        {
          "output_type": "execute_result",
          "data": {
            "text/html": [
              "<div>\n",
              "<style scoped>\n",
              "    .dataframe tbody tr th:only-of-type {\n",
              "        vertical-align: middle;\n",
              "    }\n",
              "\n",
              "    .dataframe tbody tr th {\n",
              "        vertical-align: top;\n",
              "    }\n",
              "\n",
              "    .dataframe thead th {\n",
              "        text-align: right;\n",
              "    }\n",
              "</style>\n",
              "<table border=\"1\" class=\"dataframe\">\n",
              "  <thead>\n",
              "    <tr style=\"text-align: right;\">\n",
              "      <th></th>\n",
              "      <th>handle</th>\n",
              "      <th>name</th>\n",
              "      <th>sex</th>\n",
              "      <th>born</th>\n",
              "      <th>announcement</th>\n",
              "      <th>party</th>\n",
              "      <th>city of residence</th>\n",
              "      <th>state of residence</th>\n",
              "      <th>children</th>\n",
              "    </tr>\n",
              "  </thead>\n",
              "  <tbody>\n",
              "    <tr>\n",
              "      <th>0</th>\n",
              "      <td>@sethmoulton</td>\n",
              "      <td>Seth Moulton</td>\n",
              "      <td>m</td>\n",
              "      <td>October 24, 1978</td>\n",
              "      <td>April 22, 2019</td>\n",
              "      <td>D</td>\n",
              "      <td>Salem</td>\n",
              "      <td>MA</td>\n",
              "      <td>1</td>\n",
              "    </tr>\n",
              "    <tr>\n",
              "      <th>1</th>\n",
              "      <td>@SenGillibrand</td>\n",
              "      <td>Kirsten Gillibrand</td>\n",
              "      <td>f</td>\n",
              "      <td>December 9, 1966</td>\n",
              "      <td>January 15, 2019</td>\n",
              "      <td>D</td>\n",
              "      <td>New York</td>\n",
              "      <td>NY</td>\n",
              "      <td>2</td>\n",
              "    </tr>\n",
              "    <tr>\n",
              "      <th>2</th>\n",
              "      <td>@Hickenlooper</td>\n",
              "      <td>John Hickenlooper</td>\n",
              "      <td>m</td>\n",
              "      <td>February 7, 1952</td>\n",
              "      <td>March 4, 2019</td>\n",
              "      <td>D</td>\n",
              "      <td>Denver</td>\n",
              "      <td>CO</td>\n",
              "      <td>1</td>\n",
              "    </tr>\n",
              "    <tr>\n",
              "      <th>3</th>\n",
              "      <td>@JohnDelaney</td>\n",
              "      <td>John Delaney</td>\n",
              "      <td>m</td>\n",
              "      <td>April 16, 1963</td>\n",
              "      <td>August 10, 2017</td>\n",
              "      <td>D</td>\n",
              "      <td>Chevy Chase</td>\n",
              "      <td>MD</td>\n",
              "      <td>4</td>\n",
              "    </tr>\n",
              "    <tr>\n",
              "      <th>4</th>\n",
              "      <td>@KamalaHarris</td>\n",
              "      <td>Kamala Harris</td>\n",
              "      <td>f</td>\n",
              "      <td>October 20, 1964</td>\n",
              "      <td>January 21, 2019</td>\n",
              "      <td>D</td>\n",
              "      <td>San Francisco</td>\n",
              "      <td>CA</td>\n",
              "      <td>0</td>\n",
              "    </tr>\n",
              "  </tbody>\n",
              "</table>\n",
              "</div>"
            ],
            "text/plain": [
              "           handle                name  ... state of residence children\n",
              "0    @sethmoulton        Seth Moulton  ...                 MA        1\n",
              "1  @SenGillibrand  Kirsten Gillibrand  ...                 NY        2\n",
              "2   @Hickenlooper   John Hickenlooper  ...                 CO        1\n",
              "3    @JohnDelaney        John Delaney  ...                 MD        4\n",
              "4   @KamalaHarris       Kamala Harris  ...                 CA        0\n",
              "\n",
              "[5 rows x 9 columns]"
            ]
          },
          "metadata": {
            "tags": []
          },
          "execution_count": 5
        }
      ]
    },
    {
      "cell_type": "code",
      "metadata": {
        "colab": {
          "base_uri": "https://localhost:8080/"
        },
        "id": "y3fDjEEfD3-u",
        "outputId": "4ba17949-a472-47e3-d319-d3c2e040e4c3"
      },
      "source": [
        "dataset.shape"
      ],
      "execution_count": 6,
      "outputs": [
        {
          "output_type": "execute_result",
          "data": {
            "text/plain": [
              "(27, 9)"
            ]
          },
          "metadata": {
            "tags": []
          },
          "execution_count": 6
        }
      ]
    },
    {
      "cell_type": "code",
      "metadata": {
        "colab": {
          "base_uri": "https://localhost:8080/"
        },
        "id": "_KHP6uTnD76I",
        "outputId": "6086cd3e-d7e3-468a-99fc-38f7a6ad0e5d"
      },
      "source": [
        "dataset.columns"
      ],
      "execution_count": 7,
      "outputs": [
        {
          "output_type": "execute_result",
          "data": {
            "text/plain": [
              "Index(['handle', 'name', 'sex', 'born', 'announcement', 'party',\n",
              "       'city of residence', 'state of residence', 'children'],\n",
              "      dtype='object')"
            ]
          },
          "metadata": {
            "tags": []
          },
          "execution_count": 7
        }
      ]
    },
    {
      "cell_type": "code",
      "metadata": {
        "colab": {
          "base_uri": "https://localhost:8080/"
        },
        "id": "EAJRPy4AD_0N",
        "outputId": "c43d32a9-0556-4a09-a722-9ebf0356f6ba"
      },
      "source": [
        "dataset.info"
      ],
      "execution_count": 8,
      "outputs": [
        {
          "output_type": "execute_result",
          "data": {
            "text/plain": [
              "<bound method DataFrame.info of               handle                 name  ... state of residence children\n",
              "0       @sethmoulton         Seth Moulton  ...                 MA        1\n",
              "1     @SenGillibrand   Kirsten Gillibrand  ...                 NY        2\n",
              "2      @Hickenlooper    John Hickenlooper  ...                 CO        1\n",
              "3       @JohnDelaney         John Delaney  ...                 MD        4\n",
              "4      @KamalaHarris        Kamala Harris  ...                 CA        0\n",
              "5          @JoeBiden            Joe Biden  ...                 DE        4\n",
              "6           @TimRyan             Tim Ryan  ...                 OH        1\n",
              "7           @ewarren     Elizabeth Warren  ...                 MA        2\n",
              "8   @realDonaldTrump         Donald Trump  ...                 NY        5\n",
              "9      @JulianCastro        Julian Castro  ...                 TX        2\n",
              "10     @BilldeBlasio       Bill de Blasio  ...                 NY        2\n",
              "11    @marwilliamson  Marianne Williamson  ...                 TX        1\n",
              "12    @BernieSanders       Bernie Sanders  ...                 VT        4\n",
              "13       @CoryBooker          Cory Booker  ...                 NJ        0\n",
              "14       @mike_pence           Mike Pence  ...                 IN        3\n",
              "15       @AndrewYang          Andrew Yang  ...                 NY        2\n",
              "16     @ericswalwell        Eric Swalwell  ...                 CA        2\n",
              "17       @MikeGravel          Mike Gravel  ...                 CA        2\n",
              "18        @JayInslee           Jay Inslee  ...                 WA        3\n",
              "19  @GovernorBullock        Steve Bullock  ...                 MT        3\n",
              "20    @MichaelBennet       Michael Bennet  ...                 CO        3\n",
              "21      @BetoORourke        Beto O'Rourke  ...                 TX        3\n",
              "22    @PeteButtigieg       Pete Buttigieg  ...                 IN        0\n",
              "23     @TulsiGabbard        Tulsi Gabbard  ...                 HI        0\n",
              "24     @amyklobuchar        Amy Klobuchar  ...                 MN        1\n",
              "25      @WayneMessam         Wayne Messam  ...                 FL        3\n",
              "26      @GovBillWeld            Bill Weld  ...                 NY        5\n",
              "\n",
              "[27 rows x 9 columns]>"
            ]
          },
          "metadata": {
            "tags": []
          },
          "execution_count": 8
        }
      ]
    },
    {
      "cell_type": "code",
      "metadata": {
        "colab": {
          "base_uri": "https://localhost:8080/",
          "height": 284
        },
        "id": "R_b3vmy2EIzP",
        "outputId": "e96b5067-5c89-401a-e915-2dd111f8fb7b"
      },
      "source": [
        "dataset.describe()"
      ],
      "execution_count": 9,
      "outputs": [
        {
          "output_type": "execute_result",
          "data": {
            "text/html": [
              "<div>\n",
              "<style scoped>\n",
              "    .dataframe tbody tr th:only-of-type {\n",
              "        vertical-align: middle;\n",
              "    }\n",
              "\n",
              "    .dataframe tbody tr th {\n",
              "        vertical-align: top;\n",
              "    }\n",
              "\n",
              "    .dataframe thead th {\n",
              "        text-align: right;\n",
              "    }\n",
              "</style>\n",
              "<table border=\"1\" class=\"dataframe\">\n",
              "  <thead>\n",
              "    <tr style=\"text-align: right;\">\n",
              "      <th></th>\n",
              "      <th>children</th>\n",
              "    </tr>\n",
              "  </thead>\n",
              "  <tbody>\n",
              "    <tr>\n",
              "      <th>count</th>\n",
              "      <td>27.000000</td>\n",
              "    </tr>\n",
              "    <tr>\n",
              "      <th>mean</th>\n",
              "      <td>2.185185</td>\n",
              "    </tr>\n",
              "    <tr>\n",
              "      <th>std</th>\n",
              "      <td>1.468569</td>\n",
              "    </tr>\n",
              "    <tr>\n",
              "      <th>min</th>\n",
              "      <td>0.000000</td>\n",
              "    </tr>\n",
              "    <tr>\n",
              "      <th>25%</th>\n",
              "      <td>1.000000</td>\n",
              "    </tr>\n",
              "    <tr>\n",
              "      <th>50%</th>\n",
              "      <td>2.000000</td>\n",
              "    </tr>\n",
              "    <tr>\n",
              "      <th>75%</th>\n",
              "      <td>3.000000</td>\n",
              "    </tr>\n",
              "    <tr>\n",
              "      <th>max</th>\n",
              "      <td>5.000000</td>\n",
              "    </tr>\n",
              "  </tbody>\n",
              "</table>\n",
              "</div>"
            ],
            "text/plain": [
              "        children\n",
              "count  27.000000\n",
              "mean    2.185185\n",
              "std     1.468569\n",
              "min     0.000000\n",
              "25%     1.000000\n",
              "50%     2.000000\n",
              "75%     3.000000\n",
              "max     5.000000"
            ]
          },
          "metadata": {
            "tags": []
          },
          "execution_count": 9
        }
      ]
    },
    {
      "cell_type": "code",
      "metadata": {
        "colab": {
          "base_uri": "https://localhost:8080/"
        },
        "id": "PI2nOT4pENO-",
        "outputId": "9d5b57f4-b9f0-4efc-a385-5af492a3f0e0"
      },
      "source": [
        "dataset.duplicated().sum()"
      ],
      "execution_count": 12,
      "outputs": [
        {
          "output_type": "execute_result",
          "data": {
            "text/plain": [
              "0"
            ]
          },
          "metadata": {
            "tags": []
          },
          "execution_count": 12
        }
      ]
    },
    {
      "cell_type": "code",
      "metadata": {
        "colab": {
          "base_uri": "https://localhost:8080/"
        },
        "id": "Vbh8mlkhEYpG",
        "outputId": "5b44801e-f05b-41ce-89d9-54888c259301"
      },
      "source": [
        "dataset.isnull().sum()"
      ],
      "execution_count": 13,
      "outputs": [
        {
          "output_type": "execute_result",
          "data": {
            "text/plain": [
              "handle                0\n",
              "name                  0\n",
              "sex                   0\n",
              "born                  0\n",
              "announcement          2\n",
              "party                 0\n",
              "city of residence     0\n",
              "state of residence    0\n",
              "children              0\n",
              "dtype: int64"
            ]
          },
          "metadata": {
            "tags": []
          },
          "execution_count": 13
        }
      ]
    }
  ]
}